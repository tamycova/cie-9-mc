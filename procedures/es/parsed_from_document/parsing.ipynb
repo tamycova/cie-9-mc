{
 "cells": [
  {
   "cell_type": "code",
   "execution_count": 1,
   "metadata": {},
   "outputs": [],
   "source": [
    "from bs4 import BeautifulSoup"
   ]
  },
  {
   "cell_type": "code",
   "execution_count": 2,
   "metadata": {},
   "outputs": [],
   "source": [
    "DATA_PATH = \"parsed.html\""
   ]
  },
  {
   "cell_type": "code",
   "execution_count": 3,
   "metadata": {},
   "outputs": [],
   "source": [
    "soup = BeautifulSoup(open(DATA_PATH), \"html.parser\")\n",
    "cls_2 = soup.find_all('div',class_=\"cls_002\") # find all divs that contain a bold line"
   ]
  },
  {
   "cell_type": "code",
   "execution_count": 4,
   "metadata": {},
   "outputs": [],
   "source": [
    "# All divs have text, and the attribute top in the style tells us if two divs were on the same line in the pdf\n",
    "\n",
    "def get_top_value(style):\n",
    "    # top value is always at the end of the style string, with a trailing px\n",
    "    top = []\n",
    "    for i in range(len(style) - 3, -1, -1): # ignore trailing px\n",
    "        if style[i] == \":\": break\n",
    "        top.append(style[i])\n",
    "    return \"\".join(top[::-1])\n",
    "\n",
    "text_top = []\n",
    "for div in cls_2:\n",
    "    text = div.text\n",
    "    top = get_top_value(div['style'])\n",
    "    text_top.append((text, top))"
   ]
  },
  {
   "cell_type": "code",
   "execution_count": 5,
   "metadata": {},
   "outputs": [],
   "source": [
    "# Mostly there are two data points per top value (code + description), but sometimes there are three when there is a symbol (* + code + description)\n",
    "# We ignore the symbol, also we check sequentially for same top values to merge text since they repeat themselves over the pages\n",
    "\n",
    "merged_text = []\n",
    "for i in range(len(text_top) - 2):\n",
    "    if text_top[i][1] != text_top[i + 1][1]: # if the next top is != than me, I need to check if there is any merge option behind with same top value or someone behind me, this be triggered for the symbol in triple cases\n",
    "        txt = text_top[i][0]\n",
    "        if i != 0 and text_top[i - 1][1] == text_top[i][1]: \n",
    "            txt += \" \" + text_top[i - 1][0]\n",
    "        merged_text.append(txt)\n",
    "# Add the last two data points that were not considered\n",
    "merged_text.append(text_top[len(text_top) - 2][0])\n",
    "merged_text.append(text_top[len(text_top) - 1][0])"
   ]
  },
  {
   "cell_type": "code",
   "execution_count": 7,
   "metadata": {},
   "outputs": [],
   "source": [
    "# Remove special symbols\n",
    "f = []\n",
    "for x in merged_text:\n",
    "    f.append(''.join(e for e in x if e.isalnum() or e == \".\" or e == \" \"))"
   ]
  },
  {
   "cell_type": "code",
   "execution_count": 9,
   "metadata": {},
   "outputs": [],
   "source": [
    "# separate codes from descriptions\n",
    "code_desc = []\n",
    "for x in f:\n",
    "    if not x:\n",
    "        continue\n",
    "    i = 0 \n",
    "    while x[i] == \" \": # remove leading spaces\n",
    "        i += 1\n",
    "    number = \"\"\n",
    "    desc = \"\"\n",
    "    if x and x[i].isdigit(): # if string starts with digit parse number first\n",
    "        while i < len(x):\n",
    "            if not (x[i].isdigit() or x[i] == \".\"):\n",
    "                break \n",
    "            number += x[i]\n",
    "            i += 1\n",
    "        while i < len(x):\n",
    "            desc += x[i]\n",
    "            i += 1\n",
    "    else:\n",
    "        while i < len(x):\n",
    "            if (x[i].isdigit() or x[i] == \".\"):\n",
    "                break \n",
    "            desc += x[i]\n",
    "            i += 1\n",
    "        while i < len(x):\n",
    "            number += x[i]\n",
    "            i += 1 \n",
    "    if number and desc: # sometimes there are empty lines\n",
    "        if 1349 <= float(number) <= 1563: # remove page numbers\n",
    "            continue\n",
    "        # remove leading and trailing spaces\n",
    "        desc = desc.strip().lstrip(' ')\n",
    "        number = number.strip().lstrip(' ')\n",
    "        code_desc.append([number, desc])"
   ]
  },
  {
   "cell_type": "code",
   "execution_count": 11,
   "metadata": {},
   "outputs": [],
   "source": [
    "# write to csv file\n",
    "with open('codes_desc.csv','w', encoding='Latin-1') as f:\n",
    "    for n,d in code_desc:\n",
    "        f.write(\"{},{}\\n\".format(n, d))"
   ]
  },
  {
   "cell_type": "code",
   "execution_count": 14,
   "metadata": {},
   "outputs": [
    {
     "name": "stdout",
     "output_type": "stream",
     "text": [
      "12\n",
      "12.0\n",
      "12.00\n",
      "12.01\n",
      "12.02\n",
      "12.1\n",
      "12.11\n",
      "12.12\n",
      "12.13\n",
      "12.14\n",
      "12.2\n",
      "12.21\n",
      "12.22\n",
      "12.29\n",
      "12.3\n",
      "12.31\n",
      "12.32\n",
      "12.33\n",
      "12.34\n",
      "12.35\n",
      "12.39\n",
      "12.4\n",
      "12.40\n",
      "12.41\n",
      "12.42\n",
      "12.43\n",
      "12.44\n",
      "12.5\n",
      "12.51\n",
      "12.52\n",
      "12.53\n",
      "12.54\n",
      "12.55\n",
      "12.59\n",
      "12.6\n",
      "12.61\n",
      "12.62\n",
      "12.63\n",
      "12.64\n",
      "12.65\n",
      "12.66\n",
      "12.67\n",
      "12.69\n",
      "12.7\n",
      "12.71\n",
      "12.72\n",
      "12.73\n",
      "12.74\n",
      "12.79\n",
      "12.8\n",
      "12.81\n",
      "12.82\n",
      "12.83\n",
      "12.84\n",
      "12.85\n",
      "12.86\n",
      "12.87\n",
      "12.88\n",
      "12.89\n",
      "12.9\n",
      "12.91\n",
      "12.92\n",
      "12.93\n",
      "12.97\n",
      "12.98\n",
      "12.99\n",
      "12.\n"
     ]
    }
   ],
   "source": [
    "# example of how to open the file\n",
    "# its important to check that trailing zeros are still there and numbers are not rounded (excel removes them for instance):\n",
    "# 12.00 Extracción de cuerpo extraño intraocular del segmento anterior del ojo no especificada de\n",
    "# 12.01 Extracción de cuerpo extraño intraocular del segmento anterior del ojo con empleo de imán\n",
    "# 12.02 Extracción de cuerpo extraño del segmento anterior del ojo sin empleo de imán\n",
    "# and not 12,12,12\n",
    "with open('codes_desc.csv','r', encoding='Latin-1') as f:\n",
    "    for l in f.readlines():\n",
    "        n, d = l.split(\",\")\n",
    "        if n[:2] == \"12\":\n",
    "            print(n)"
   ]
  }
 ],
 "metadata": {
  "kernelspec": {
   "display_name": "Python 3",
   "language": "python",
   "name": "python3"
  },
  "language_info": {
   "codemirror_mode": {
    "name": "ipython",
    "version": 3
   },
   "file_extension": ".py",
   "mimetype": "text/x-python",
   "name": "python",
   "nbconvert_exporter": "python",
   "pygments_lexer": "ipython3",
   "version": "3.7.3"
  }
 },
 "nbformat": 4,
 "nbformat_minor": 2
}
