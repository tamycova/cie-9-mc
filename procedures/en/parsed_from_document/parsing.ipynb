{
 "cells": [
  {
   "cell_type": "code",
   "execution_count": 1,
   "metadata": {},
   "outputs": [],
   "source": [
    "from bs4 import BeautifulSoup"
   ]
  },
  {
   "cell_type": "code",
   "execution_count": 2,
   "metadata": {},
   "outputs": [],
   "source": [
    "DATA_PATH = \"parsed.html\""
   ]
  },
  {
   "cell_type": "code",
   "execution_count": 3,
   "metadata": {},
   "outputs": [],
   "source": [
    "soup = BeautifulSoup(open(DATA_PATH), \"html.parser\")\n",
    "divs = soup.find_all('div')"
   ]
  },
  {
   "cell_type": "code",
   "execution_count": 54,
   "metadata": {},
   "outputs": [
    {
     "name": "stdout",
     "output_type": "stream",
     "text": [
      "0.  PROCEDURES AND INTERVENTIONS , NOT ELSEWHERE CLASSIFIED (00)\n",
      "1.  OPERATIONS ON THE NERVOUS SYSTEM (01-05)\n",
      "2.  OPERATIONS ON THE ENDOCRINE SYSTEM (06-07)\n",
      "3.  OPERATIONS ON THE EYE (08-16)\n",
      "3A.  OTHER MISCELLANEOUS DIAGNOSTIC AND THERAPEUTIC PROCEDURES (17)\n",
      "4.  OPERATIONS ON THE EAR (18-20)\n",
      "5.  OPERATIONS ON THE NOSE, MOUTH, AND PHARYNX (21-29)\n",
      "6.  OPERATIONS ON THE RESPIRATORY SYSTEM (30-34)\n",
      "7.  OPERATIONS ON THE CARDIOVASCULAR SYSTEM (35-39)\n",
      "8.  OPERATIONS ON THE HEMIC AND LYMPHATIC SYSTEM (40-41)\n",
      "9.  OPERATIONS ON THE DIGESTIVE SYSTEM (42-54)\n",
      "10.OPERATIONS ON THE URINARY SYSTEM (55-59)\n",
      "11.OPERATIONS ON THE MALE GENITAL ORGANS (60-64)\n",
      "12.OPERATIONS ON THE FEMALE GENITAL ORGANS (65-71)\n",
      "13.OBSTETRICAL PROCEDURES (72-75)\n",
      "14.OPERATIONS ON THE MUSCULOSKELETAL SYSTEM (76-84)\n",
      "15.OPERATIONS ON THE INTEGUMENTARY SYSTEM (85-86)\n",
      "16.MISCELLANEOUS DIAGNOSTIC AND THERAPEUTIC PROCEDURES (87-99)\n"
     ]
    }
   ],
   "source": [
    "chapters = []\n",
    "lines = []\n",
    "for x in divs:\n",
    "    if 'class' in x.attrs and ('cls_002' in x['class']):\n",
    "        print(x.text)"
   ]
  },
  {
   "cell_type": "code",
   "execution_count": 30,
   "metadata": {},
   "outputs": [],
   "source": [
    "lines = []\n",
    "for x in divs:\n",
    "    if 'class' in x.attrs and ('cls_003' in x['class'] or 'cls_004' in x['class']):\n",
    "        attr_dict = {pair.split(\":\")[0]:pair.split(\":\")[1] for pair in x['style'].split(\";\")}\n",
    "        attr_dict[\"left\"] = attr_dict[\"left\"][:len(attr_dict[\"left\"]) - 2]\n",
    "        attr_dict[\"top\"] = attr_dict[\"top\"][:len(attr_dict[\"top\"]) - 2]\n",
    "        del attr_dict[\"position\"]\n",
    "        lines.append((x.text, attr_dict))"
   ]
  },
  {
   "cell_type": "code",
   "execution_count": 37,
   "metadata": {},
   "outputs": [],
   "source": [
    "codes = []\n",
    "for i in range(len(lines)):\n",
    "    name, style = lines[i]\n",
    "    try:\n",
    "        float(name)\n",
    "        if len(name) >= 2:\n",
    "            codes.append((name, lines[i+1][0]))\n",
    "    except:\n",
    "        pass"
   ]
  },
  {
   "cell_type": "code",
   "execution_count": 41,
   "metadata": {},
   "outputs": [],
   "source": [
    "dcodes = {i:j for i,j in codes}"
   ]
  },
  {
   "cell_type": "code",
   "execution_count": 56,
   "metadata": {},
   "outputs": [
    {
     "data": {
      "text/plain": [
       "('Removal of intraocular foreign body from anterior segment of eye',\n",
       " 'Removal of intraocular foreign body from anterior segment of eye, not otherwise specified')"
      ]
     },
     "execution_count": 56,
     "metadata": {},
     "output_type": "execute_result"
    }
   ],
   "source": [
    "dcodes[\"12.0\"], dcodes[\"12.00\"]"
   ]
  },
  {
   "cell_type": "code",
   "execution_count": 66,
   "metadata": {},
   "outputs": [],
   "source": [
    "# write to csv file\n",
    "with open('english_full_codes.tsv','w') as f:\n",
    "    for n in dcodes:\n",
    "        f.write(\"{}\\t{}\\n\".format(n, dcodes[n]))"
   ]
  },
  {
   "cell_type": "code",
   "execution_count": 68,
   "metadata": {},
   "outputs": [
    {
     "name": "stdout",
     "output_type": "stream",
     "text": [
      "12\n",
      "12.0\n",
      "12.00\n",
      "12.01\n",
      "12.02\n",
      "12.1\n",
      "12.11\n",
      "12.12\n",
      "12.13\n",
      "12.14\n",
      "12.2\n",
      "12.21\n",
      "12.22\n",
      "12.29\n",
      "12.3\n",
      "12.31\n",
      "12.32\n",
      "12.33\n",
      "12.34\n",
      "12.35\n",
      "12.39\n",
      "12.4\n",
      "12.40\n",
      "12.41\n",
      "12.42\n",
      "12.43\n",
      "12.44\n",
      "12.5\n",
      "12.51\n",
      "12.52\n",
      "12.53\n",
      "12.54\n",
      "12.55\n",
      "12.59\n",
      "12.6\n",
      "12.61\n",
      "12.62\n",
      "12.63\n",
      "12.64\n",
      "12.65\n",
      "12.66\n",
      "12.67\n",
      "12.69\n",
      "12.7\n",
      "12.71\n",
      "12.72\n",
      "12.73\n",
      "12.74\n",
      "12.79\n",
      "12.8\n",
      "12.81\n",
      "12.82\n",
      "12.83\n",
      "12.84\n",
      "12.85\n",
      "12.86\n",
      "12.87\n",
      "12.88\n",
      "12.89\n",
      "12.9\n",
      "12.91\n",
      "12.92\n",
      "12.93\n",
      "12.97\n",
      "12.98\n",
      "12.99\n"
     ]
    }
   ],
   "source": [
    "# example of how to open the file\n",
    "# its important to check that trailing zeros are still there and numbers are not rounded (excel removes them for instance):\n",
    "# 12.00 Extracción de cuerpo extraño intraocular del segmento anterior del ojo no especificada de\n",
    "# 12.01 Extracción de cuerpo extraño intraocular del segmento anterior del ojo con empleo de imán\n",
    "# 12.02 Extracción de cuerpo extraño del segmento anterior del ojo sin empleo de imán\n",
    "# and not 12,12,12\n",
    "with open('english_full_codes.tsv','r') as f:\n",
    "    for l in f.readlines():\n",
    "        n, d = l.split(\"\\t\")\n",
    "        if n[:2] == \"12\":\n",
    "            print(n)"
   ]
  }
 ],
 "metadata": {
  "kernelspec": {
   "display_name": "Python 3",
   "language": "python",
   "name": "python3"
  },
  "language_info": {
   "codemirror_mode": {
    "name": "ipython",
    "version": 3
   },
   "file_extension": ".py",
   "mimetype": "text/x-python",
   "name": "python",
   "nbconvert_exporter": "python",
   "pygments_lexer": "ipython3",
   "version": "3.7.3"
  }
 },
 "nbformat": 4,
 "nbformat_minor": 2
}
